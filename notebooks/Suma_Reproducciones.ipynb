{
 "cells": [
  {
   "cell_type": "markdown",
   "id": "e9b5a98c",
   "metadata": {},
   "source": [
    "# Programa para sumar las reproducciones de las canciones repetidas y guardarlas en un archivo."
   ]
  },
  {
   "cell_type": "code",
   "execution_count": 40,
   "id": "0e6f46f6",
   "metadata": {},
   "outputs": [],
   "source": [
    "import pandas as pd"
   ]
  },
  {
   "cell_type": "code",
   "execution_count": 41,
   "id": "c52e6b34",
   "metadata": {},
   "outputs": [
    {
     "name": "stdout",
     "output_type": "stream",
     "text": [
      "                                    uri                 artist_names  \\\n",
      "0  spotify:track:6WkJ2OK163XXS2oARUC9JM    Aaron Smith, Krono, Luvli   \n",
      "1  spotify:track:6WkJ2OK163XXS2oARUC9JM    Aaron Smith, Krono, Luvli   \n",
      "2  spotify:track:4qArKIA7dnmdushoBlkV94  Adriel Favela, Javier Rosas   \n",
      "3  spotify:track:4qArKIA7dnmdushoBlkV94  Adriel Favela, Javier Rosas   \n",
      "4  spotify:track:4qArKIA7dnmdushoBlkV94  Adriel Favela, Javier Rosas   \n",
      "\n",
      "                           track_name  weeks_on_chart  streams  \n",
      "0  Dancin (feat. Luvli) - Krono Remix              97   606199  \n",
      "1  Dancin (feat. Luvli) - Krono Remix              98   619706  \n",
      "2              La Escuela No Me Gustó             109   629862  \n",
      "3              La Escuela No Me Gustó             110   710509  \n",
      "4              La Escuela No Me Gustó             111   703631   \n",
      "\n",
      " Numero de filas: 5198\n"
     ]
    }
   ],
   "source": [
    "archivo = 'C:\\\\Users\\\\JESUS\\\\Desktop\\\\Spoty Project\\\\data\\\\interim\\\\Datos.xlsx'\n",
    "df = pd.read_excel(archivo, sheet_name='Hoja1')\n",
    "print(df.head(),\"\\n\\n\",\"Numero de filas:\",len(df))"
   ]
  },
  {
   "cell_type": "code",
   "execution_count": 42,
   "id": "87907dd8",
   "metadata": {},
   "outputs": [
    {
     "name": "stdout",
     "output_type": "stream",
     "text": [
      "                                       streams\n",
      "uri                                           \n",
      "spotify:track:00jpfco62YfQj1BBYCCuKH   4051501\n",
      "spotify:track:00szcRmgqJGtqrfIUYkM1h  24711771\n",
      "spotify:track:017PF4Q3l4DBUiWoXk4OWT  11778346\n",
      "spotify:track:03LfOYi0icz4souspZVVhq   8754615\n",
      "spotify:track:059bcIhyc2SBwm6sw2AZzd   9978800\n",
      "...                                        ...\n",
      "spotify:track:7vrJn5hDSXRmdXoR30KgF1  12770574\n",
      "spotify:track:7wnO6pBzcWWT8zT4vFx7hM   4507455\n",
      "spotify:track:7x4ASXYEKfQBCewcZhK776   3305171\n",
      "spotify:track:7xLYLM5K6S1TwiSdfuhZQg  12344630\n",
      "spotify:track:7xT1n5JKpB0bMPh6FL589e  16361174\n",
      "\n",
      "[447 rows x 1 columns]\n"
     ]
    }
   ],
   "source": [
    "df=pd.DataFrame(df)\n",
    "#print(df.head())\n",
    "df=df.groupby('uri').streams.sum()\n",
    "df=pd.DataFrame(df)\n",
    "print(df)"
   ]
  },
  {
   "cell_type": "code",
   "execution_count": 43,
   "id": "729d433d",
   "metadata": {},
   "outputs": [
    {
     "name": "stdout",
     "output_type": "stream",
     "text": [
      "                                        streams\n",
      "uri                                            \n",
      "spotify:track:7EUvcSFkyVB73zrblhQmEL     608040\n",
      "spotify:track:43Z6YxVTYyr5ewyo2uepdy     609073\n",
      "spotify:track:4skuEIloXWuxxgekKupkEH     609256\n",
      "spotify:track:6Im9k8u9iIzKMrmV7BWtlF     609591\n",
      "spotify:track:6ocbgoVGwYJhOv1GgI9NsF     610280\n",
      "...                                         ...\n",
      "spotify:track:6tDDoYIxWvMLTdKpjFkc1B   74503626\n",
      "spotify:track:2JPLbjOn0wPCngEot2STUS   88058478\n",
      "spotify:track:4MzXwWMhyBbmu6hOcLVD49   89982950\n",
      "spotify:track:7Bk0uXKk1uPT0XuQbpFzvs   94288622\n",
      "spotify:track:2MnLkFqY9Rpg9s3Zv6ZJdK  116313570\n",
      "\n",
      "[447 rows x 1 columns]\n"
     ]
    }
   ],
   "source": [
    "df=df.sort_values('streams')\n",
    "print(df)"
   ]
  },
  {
   "cell_type": "code",
   "execution_count": null,
   "id": "2babc4f5",
   "metadata": {},
   "outputs": [],
   "source": [
    "df.to_excel('datos_sum.xlsx')"
   ]
  },
  {
   "cell_type": "markdown",
   "id": "c8bf69d2",
   "metadata": {},
   "source": [
    "Una vez teniendo el archivo 'datos_sum.xlsx' habra que pasarlo a la carpeta \"interim\" en la carpeta \"data\""
   ]
  }
 ],
 "metadata": {
  "kernelspec": {
   "display_name": "Python 3 (ipykernel)",
   "language": "python",
   "name": "python3"
  },
  "language_info": {
   "codemirror_mode": {
    "name": "ipython",
    "version": 3
   },
   "file_extension": ".py",
   "mimetype": "text/x-python",
   "name": "python",
   "nbconvert_exporter": "python",
   "pygments_lexer": "ipython3",
   "version": "3.8.9"
  }
 },
 "nbformat": 4,
 "nbformat_minor": 5
}
